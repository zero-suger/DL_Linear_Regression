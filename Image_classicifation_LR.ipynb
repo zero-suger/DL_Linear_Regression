{
  "nbformat": 4,
  "nbformat_minor": 0,
  "metadata": {
    "colab": {
      "provenance": []
    },
    "kernelspec": {
      "name": "python3",
      "display_name": "Python 3"
    },
    "language_info": {
      "name": "python"
    }
  },
  "cells": [
    {
      "cell_type": "code",
      "execution_count": 48,
      "metadata": {
        "id": "g3zjpo2bKBbe"
      },
      "outputs": [],
      "source": [
        "import torch\n",
        "import torchvision\n",
        "from torchvision.datasets import MNIST"
      ]
    },
    {
      "cell_type": "code",
      "source": [
        "dataset = MNIST(root = 'data/', download = True)"
      ],
      "metadata": {
        "id": "VYbLwmgsMdQ0"
      },
      "execution_count": 49,
      "outputs": []
    },
    {
      "cell_type": "code",
      "source": [
        "len(dataset) # checking the lenghts of my dataset"
      ],
      "metadata": {
        "colab": {
          "base_uri": "https://localhost:8080/"
        },
        "id": "BJhMiY21Mn9x",
        "outputId": "874971c1-d3bc-4249-ebc1-b3e23637ce91"
      },
      "execution_count": 50,
      "outputs": [
        {
          "output_type": "execute_result",
          "data": {
            "text/plain": [
              "60000"
            ]
          },
          "metadata": {},
          "execution_count": 50
        }
      ]
    },
    {
      "cell_type": "code",
      "source": [
        "test_dataset = MNIST(root = 'data/',train = False)\n",
        "train_dataset = MNIST(root = 'data/',train = True)\n",
        "len(test_dataset), len(train_dataset)"
      ],
      "metadata": {
        "colab": {
          "base_uri": "https://localhost:8080/"
        },
        "id": "OFcF6VjlMukq",
        "outputId": "3fca8e6c-a18f-49a9-ab9a-3162cf26f0e7"
      },
      "execution_count": 51,
      "outputs": [
        {
          "output_type": "execute_result",
          "data": {
            "text/plain": [
              "(10000, 60000)"
            ]
          },
          "metadata": {},
          "execution_count": 51
        }
      ]
    },
    {
      "cell_type": "code",
      "source": [
        "train_dataset[0] # PIL is the Python Library to work with the images"
      ],
      "metadata": {
        "colab": {
          "base_uri": "https://localhost:8080/"
        },
        "id": "9esvdQgdM6hX",
        "outputId": "372a8ffe-c39a-44e6-eabc-7563b479ff6e"
      },
      "execution_count": 52,
      "outputs": [
        {
          "output_type": "execute_result",
          "data": {
            "text/plain": [
              "(<PIL.Image.Image image mode=L size=28x28 at 0x7FE02A167820>, 5)"
            ]
          },
          "metadata": {},
          "execution_count": 52
        }
      ]
    },
    {
      "cell_type": "code",
      "source": [
        "import matplotlib.pyplot as plt\n",
        "%matplotlib inline  \n",
        "# % means magic command bcs it says show my graph not like pop up"
      ],
      "metadata": {
        "id": "m-MUBaWHNUp4"
      },
      "execution_count": 53,
      "outputs": []
    },
    {
      "cell_type": "code",
      "source": [
        "image, label = dataset[0]\n",
        "plt.imshow(image, cmap = 'gray')\n",
        "print('Label:', label)"
      ],
      "metadata": {
        "colab": {
          "base_uri": "https://localhost:8080/",
          "height": 448
        },
        "id": "flQAyeZ5N6Du",
        "outputId": "c76a67e6-4f60-437a-b72a-4d720428e9b7"
      },
      "execution_count": 54,
      "outputs": [
        {
          "output_type": "stream",
          "name": "stdout",
          "text": [
            "Label: 5\n"
          ]
        },
        {
          "output_type": "display_data",
          "data": {
            "text/plain": [
              "<Figure size 640x480 with 1 Axes>"
            ],
            "image/png": "[encoded data removed]"
          },
          "metadata": {}
        }
      ]
    },
    {
      "cell_type": "code",
      "source": [
        "image, label = dataset[15]\n",
        "plt.imshow(image,cmap = 'gray')\n",
        "print('Label:', label)"
      ],
      "metadata": {
        "colab": {
          "base_uri": "https://localhost:8080/",
          "height": 448
        },
        "id": "BsjSK8B2OH1G",
        "outputId": "d807f07e-806e-496f-83b6-34067f31057f"
      },
      "execution_count": 55,
      "outputs": [
        {
          "output_type": "stream",
          "name": "stdout",
          "text": [
            "Label: 7\n"
          ]
        },
        {
          "output_type": "display_data",
          "data": {
            "text/plain": [
              "<Figure size 640x480 with 1 Axes>"
            ],
            "image/png": "[encoded data removed]"
          },
          "metadata": {}
        }
      ]
    },
    {
      "cell_type": "code",
      "source": [
        "import torchvision.transforms as transforms"
      ],
      "metadata": {
        "id": "nw4B-Li4OXOa"
      },
      "execution_count": 56,
      "outputs": []
    },
    {
      "cell_type": "code",
      "source": [
        "dataset = MNIST(root = 'data/', download = True, transform = transforms.ToTensor())\n",
        "# computer can't recognise my image so I have to convert it into tensor.  "
      ],
      "metadata": {
        "id": "vCmMyW01OluE"
      },
      "execution_count": 57,
      "outputs": []
    },
    {
      "cell_type": "code",
      "source": [
        "img_tensor, label = dataset [0]\n",
        "print(img_tensor.shape, label)"
      ],
      "metadata": {
        "colab": {
          "base_uri": "https://localhost:8080/"
        },
        "id": "oX0AhK7APTy4",
        "outputId": "76102790-db55-4736-b159-bde67b69b67a"
      },
      "execution_count": 58,
      "outputs": [
        {
          "output_type": "stream",
          "name": "stdout",
          "text": [
            "torch.Size([1, 28, 28]) 5\n"
          ]
        }
      ]
    },
    {
      "cell_type": "code",
      "source": [
        "print(img_tensor[:,10:15,10:15])\n",
        "print(torch.max(img_tensor), torch.min(img_tensor))"
      ],
      "metadata": {
        "colab": {
          "base_uri": "https://localhost:8080/"
        },
        "id": "yI6cMjkJPcYD",
        "outputId": "39804aa9-50f5-454c-c94f-151f7a107682"
      },
      "execution_count": 59,
      "outputs": [
        {
          "output_type": "stream",
          "name": "stdout",
          "text": [
            "tensor([[[0.0039, 0.6039, 0.9922, 0.3529, 0.0000],\n",
            "         [0.0000, 0.5451, 0.9922, 0.7451, 0.0078],\n",
            "         [0.0000, 0.0431, 0.7451, 0.9922, 0.2745],\n",
            "         [0.0000, 0.0000, 0.1373, 0.9451, 0.8824],\n",
            "         [0.0000, 0.0000, 0.0000, 0.3176, 0.9412]]])\n",
            "tensor(1.) tensor(0.)\n"
          ]
        }
      ]
    },
    {
      "cell_type": "code",
      "source": [
        "plt.imshow(img_tensor[0,10:15,10:15], cmap ='gray')"
      ],
      "metadata": {
        "colab": {
          "base_uri": "https://localhost:8080/",
          "height": 448
        },
        "id": "A4yzGVBAQZiI",
        "outputId": "489a0d39-3aa2-4aaa-8ac6-724d0b2e4feb"
      },
      "execution_count": 60,
      "outputs": [
        {
          "output_type": "execute_result",
          "data": {
            "text/plain": [
              "<matplotlib.image.AxesImage at 0x7fe02a32f040>"
            ]
          },
          "metadata": {},
          "execution_count": 60
        },
        {
          "output_type": "display_data",
          "data": {
            "text/plain": [
              "<Figure size 640x480 with 1 Axes>"
            ],
            "image/png": "[encoded data removed]"
          },
          "metadata": {}
        }
      ]
    },
    {
      "cell_type": "markdown",
      "source": [
        "# **Train, Test and Validation sets**"
      ],
      "metadata": {
        "id": "yzq6inoXRODM"
      }
    },
    {
      "cell_type": "code",
      "source": [
        "import numpy as np\n",
        "\n",
        "def split_indices(num_data, val_predict):\n",
        "  n_val = int(val_predict * num_data) # val_pred : which proposion I want to take as a val. and total amount od data in train set\n",
        "\n",
        "  indx = np.random.permutation(num_data) # create a value 0 to num_data\n",
        "\n",
        "  return indx[n_val:], indx[:n_val]"
      ],
      "metadata": {
        "id": "l3hGYhpXQxz4"
      },
      "execution_count": 61,
      "outputs": []
    },
    {
      "cell_type": "code",
      "source": [
        "train_i, validation_i = split_indices(len(dataset), val_predict=0.2) # 600000 * 0.2 = 12000"
      ],
      "metadata": {
        "id": "ho72MARLZQtJ"
      },
      "execution_count": 62,
      "outputs": []
    },
    {
      "cell_type": "code",
      "source": [
        "from traitlets.traitlets import validate\n",
        "len(validation_i)"
      ],
      "metadata": {
        "colab": {
          "base_uri": "https://localhost:8080/"
        },
        "id": "LN3yzdHbZpgH",
        "outputId": "95b82542-bd0b-410a-a7f7-be4b4fe79132"
      },
      "execution_count": 63,
      "outputs": [
        {
          "output_type": "execute_result",
          "data": {
            "text/plain": [
              "12000"
            ]
          },
          "metadata": {},
          "execution_count": 63
        }
      ]
    },
    {
      "cell_type": "code",
      "source": [
        "from torch.utils.data.sampler import SubsetRandomSampler # shuffle my data\n",
        "from torch.utils.data.dataloader import DataLoader"
      ],
      "metadata": {
        "id": "OJbSm627ZvKm"
      },
      "execution_count": 64,
      "outputs": []
    },
    {
      "cell_type": "code",
      "source": [
        "BATCH_SIZE = 100\n",
        "\n",
        "# Train set/ DataLoader\n",
        "train_sampler = SubsetRandomSampler(train_i)\n",
        "train_dl = DataLoader(dataset, batch_size = BATCH_SIZE, sampler = train_sampler)\n",
        "\n",
        "# Validation set/ Dataloader \n",
        "validation_sampler = SubsetRandomSampler(validation_i)\n",
        "validation_dl = DataLoader(dataset, batch_size = BATCH_SIZE, sampler = validation_sampler)"
      ],
      "metadata": {
        "id": "RDHYLVTgaXaq"
      },
      "execution_count": 65,
      "outputs": []
    },
    {
      "cell_type": "markdown",
      "source": [
        "# **Model IC_Linear_R**"
      ],
      "metadata": {
        "id": "7bqWf9XYb8UJ"
      }
    },
    {
      "cell_type": "code",
      "source": [
        "import torch.nn as nn\n",
        "\n",
        "input_size = 28 * 28 # pic size 28 * 28 and change it into vector\n",
        "num_class = 10 # 10 outputs from my model\n",
        "\n",
        "my_model = nn.Linear(input_size, num_class)\n",
        "\n",
        "print(my_model.weight.shape)\n",
        "print(my_model.bias.shape)"
      ],
      "metadata": {
        "colab": {
          "base_uri": "https://localhost:8080/"
        },
        "id": "obI16vUabUrv",
        "outputId": "8a95af6d-c893-4cdc-911f-8e9198e85dea"
      },
      "execution_count": 66,
      "outputs": [
        {
          "output_type": "stream",
          "name": "stdout",
          "text": [
            "torch.Size([10, 784])\n",
            "torch.Size([10])\n"
          ]
        }
      ]
    },
    {
      "cell_type": "code",
      "source": [
        "class MnistModel(nn.Module):\n",
        "  def __init__(self):\n",
        "    super().__init__()\n",
        "    self.linear = nn.Linear(input_size, num_class)\n",
        "\n",
        "  def forward(self, x):\n",
        "    x = x.reshape(-1, 784)\n",
        "    out = self.linear(x)\n",
        "    return out\n",
        "\n",
        "my_model = MnistModel()"
      ],
      "metadata": {
        "id": "cINIu4spdhnB"
      },
      "execution_count": 67,
      "outputs": []
    },
    {
      "cell_type": "code",
      "source": [
        "print(my_model.linear.weight.shape, my_model.linear.bias.shape)\n",
        "list(my_model.parameters())"
      ],
      "metadata": {
        "colab": {
          "base_uri": "https://localhost:8080/"
        },
        "id": "t8SmxDtvf_Lb",
        "outputId": "0b74624b-080a-4da4-d3c6-42596835fdc8"
      },
      "execution_count": 68,
      "outputs": [
        {
          "output_type": "stream",
          "name": "stdout",
          "text": [
            "torch.Size([10, 784]) torch.Size([10])\n"
          ]
        },
        {
          "output_type": "execute_result",
          "data": {
            "text/plain": [
              "[Parameter containing:\n",
              " tensor([[ 0.0091, -0.0291, -0.0113,  ..., -0.0129, -0.0319, -0.0307],\n",
              "         [-0.0142,  0.0295, -0.0311,  ...,  0.0317, -0.0342,  0.0064],\n",
              "         [-0.0168, -0.0008, -0.0180,  ..., -0.0190,  0.0216, -0.0312],\n",
              "         ...,\n",
              "         [-0.0199,  0.0324, -0.0111,  ..., -0.0310, -0.0238, -0.0335],\n",
              "         [-0.0029,  0.0038,  0.0070,  ..., -0.0352,  0.0346,  0.0311],\n",
              "         [-0.0287, -0.0186,  0.0138,  ...,  0.0280,  0.0317,  0.0002]],\n",
              "        requires_grad=True),\n",
              " Parameter containing:\n",
              " tensor([-0.0263,  0.0028, -0.0336, -0.0151,  0.0053, -0.0271,  0.0202, -0.0067,\n",
              "          0.0180, -0.0277], requires_grad=True)]"
            ]
          },
          "metadata": {},
          "execution_count": 68
        }
      ]
    },
    {
      "cell_type": "code",
      "source": [
        "for images, labels in train_dl:\n",
        "  output = my_model(images)\n",
        "  break\n",
        "\n",
        "print('Output Shape:', output.shape)\n",
        "print('Sample Output : \\n ', output[:2].data)\n"
      ],
      "metadata": {
        "colab": {
          "base_uri": "https://localhost:8080/"
        },
        "id": "d-gTE6ypgZ28",
        "outputId": "aa230fd9-0c1f-476b-e991-1a7721874927"
      },
      "execution_count": 69,
      "outputs": [
        {
          "output_type": "stream",
          "name": "stdout",
          "text": [
            "Output Shape: torch.Size([100, 10])\n",
            "Sample Output : \n",
            "  tensor([[ 0.1980,  0.4473,  0.2262, -0.2578,  0.1760, -0.1663,  0.5514, -0.1019,\n",
            "          0.2005, -0.2552],\n",
            "        [ 0.0887,  0.1402,  0.1232, -0.0411, -0.1104, -0.0165,  0.5167, -0.2420,\n",
            "          0.3551, -0.0422]])\n"
          ]
        }
      ]
    },
    {
      "cell_type": "code",
      "source": [
        "import torch.nn.functional as F"
      ],
      "metadata": {
        "id": "rPyGH9XfhPOX"
      },
      "execution_count": 70,
      "outputs": []
    },
    {
      "cell_type": "code",
      "source": [
        "probs = F.softmax(output, dim =1)\n",
        "\n",
        "print('Sample probibilities: \\n', probs[:2].data)\n",
        "\n",
        "print('Sum:', torch.sum(probs[0]).item())"
      ],
      "metadata": {
        "colab": {
          "base_uri": "https://localhost:8080/"
        },
        "id": "xMR9VUKKuQ9h",
        "outputId": "27025fd9-f41e-49e8-b7eb-a5a343e8e755"
      },
      "execution_count": 71,
      "outputs": [
        {
          "output_type": "stream",
          "name": "stdout",
          "text": [
            "Sample probibilities: \n",
            " tensor([[0.1061, 0.1362, 0.1092, 0.0673, 0.1038, 0.0737, 0.1511, 0.0786, 0.1064,\n",
            "         0.0675],\n",
            "        [0.0988, 0.1040, 0.1023, 0.0868, 0.0810, 0.0889, 0.1516, 0.0710, 0.1290,\n",
            "         0.0867]])\n",
            "Sum: 1.0000001192092896\n"
          ]
        }
      ]
    },
    {
      "cell_type": "code",
      "source": [
        "max_probs, preds = torch.max(probs, dim = 1)\n",
        "print(preds) # index of best probs\n",
        "print(max_probs) # get hightest probs"
      ],
      "metadata": {
        "colab": {
          "base_uri": "https://localhost:8080/"
        },
        "id": "rvtlg-uuwVh1",
        "outputId": "a602c71a-aea0-45f9-e6c8-4051080cb937"
      },
      "execution_count": 72,
      "outputs": [
        {
          "output_type": "stream",
          "name": "stdout",
          "text": [
            "tensor([6, 6, 1, 6, 6, 8, 8, 6, 6, 8, 8, 8, 6, 6, 6, 6, 6, 6, 2, 2, 8, 1, 2, 6,\n",
            "        8, 6, 8, 6, 3, 2, 6, 6, 6, 2, 2, 8, 8, 6, 8, 1, 8, 2, 2, 6, 8, 6, 8, 8,\n",
            "        6, 2, 1, 6, 6, 2, 6, 6, 6, 8, 1, 2, 1, 8, 5, 0, 1, 1, 3, 2, 8, 8, 1, 8,\n",
            "        2, 6, 8, 6, 2, 5, 4, 1, 8, 2, 6, 5, 6, 2, 6, 1, 6, 2, 8, 2, 6, 8, 6, 0,\n",
            "        2, 1, 8, 2])\n",
            "tensor([0.1511, 0.1516, 0.1320, 0.1416, 0.1254, 0.1468, 0.1200, 0.1465, 0.1285,\n",
            "        0.1344, 0.1350, 0.1383, 0.1516, 0.1378, 0.1393, 0.1201, 0.1377, 0.1336,\n",
            "        0.1319, 0.1197, 0.1391, 0.1249, 0.1447, 0.1279, 0.1302, 0.1369, 0.1486,\n",
            "        0.1422, 0.1170, 0.1543, 0.1245, 0.1422, 0.1450, 0.1297, 0.1389, 0.1386,\n",
            "        0.1175, 0.1533, 0.1372, 0.1475, 0.1380, 0.1366, 0.1348, 0.1360, 0.1298,\n",
            "        0.1475, 0.1274, 0.1395, 0.1417, 0.1345, 0.1399, 0.1335, 0.1255, 0.1283,\n",
            "        0.1365, 0.1394, 0.1476, 0.1293, 0.1238, 0.1405, 0.1532, 0.1318, 0.1242,\n",
            "        0.1282, 0.1345, 0.1275, 0.1185, 0.1337, 0.1427, 0.1116, 0.1230, 0.1444,\n",
            "        0.1487, 0.1282, 0.1255, 0.1163, 0.1413, 0.1269, 0.1190, 0.1228, 0.1309,\n",
            "        0.1393, 0.1428, 0.1177, 0.1343, 0.1350, 0.1206, 0.1277, 0.1297, 0.1446,\n",
            "        0.1263, 0.1563, 0.1506, 0.1441, 0.1526, 0.1382, 0.1320, 0.1253, 0.1374,\n",
            "        0.1168], grad_fn=<MaxBackward0>)\n"
          ]
        }
      ]
    },
    {
      "cell_type": "code",
      "source": [
        "labels  # to compare with original one"
      ],
      "metadata": {
        "colab": {
          "base_uri": "https://localhost:8080/"
        },
        "id": "O8oZFaNQwhMx",
        "outputId": "5c5dea14-1df1-49d1-a801-7f4b002cce92"
      },
      "execution_count": 73,
      "outputs": [
        {
          "output_type": "execute_result",
          "data": {
            "text/plain": [
              "tensor([0, 6, 4, 9, 4, 7, 1, 2, 2, 1, 2, 6, 2, 6, 9, 9, 5, 0, 9, 9, 4, 5, 9, 3,\n",
              "        4, 0, 7, 3, 0, 8, 5, 4, 6, 0, 9, 7, 1, 6, 7, 6, 3, 9, 1, 8, 9, 7, 1, 2,\n",
              "        8, 1, 0, 8, 8, 3, 0, 8, 3, 4, 1, 4, 6, 4, 1, 3, 0, 5, 5, 8, 4, 6, 0, 2,\n",
              "        8, 7, 9, 1, 9, 1, 1, 1, 5, 3, 6, 1, 7, 1, 5, 1, 5, 8, 6, 8, 2, 9, 0, 0,\n",
              "        2, 2, 9, 2])"
            ]
          },
          "metadata": {},
          "execution_count": 73
        }
      ]
    },
    {
      "cell_type": "markdown",
      "source": [
        "# **LOSS FUNCTION**"
      ],
      "metadata": {
        "id": "qicaL0K_xRfU"
      }
    },
    {
      "cell_type": "code",
      "source": [
        "preds == labels # to see is my pred and loss equal to each other and then run loss function"
      ],
      "metadata": {
        "colab": {
          "base_uri": "https://localhost:8080/"
        },
        "id": "Rn6UV2Hsw5Fj",
        "outputId": "5c397e23-7899-45ea-fbda-7c6e0ac6f7dd"
      },
      "execution_count": 74,
      "outputs": [
        {
          "output_type": "execute_result",
          "data": {
            "text/plain": [
              "tensor([False,  True, False, False, False, False, False, False, False, False,\n",
              "        False, False, False,  True, False, False, False, False, False, False,\n",
              "        False, False, False, False, False, False, False, False, False, False,\n",
              "        False, False,  True, False, False, False, False,  True, False, False,\n",
              "        False, False, False, False, False, False, False, False, False, False,\n",
              "        False, False, False, False, False, False, False, False,  True, False,\n",
              "        False, False, False, False, False, False, False, False, False, False,\n",
              "        False, False, False, False, False, False, False, False, False,  True,\n",
              "        False, False,  True, False, False, False, False,  True, False, False,\n",
              "        False, False, False, False, False,  True,  True, False, False,  True])"
            ]
          },
          "metadata": {},
          "execution_count": 74
        }
      ]
    },
    {
      "cell_type": "code",
      "source": [
        "# calculate how much percent accurancy I have:\n",
        "def my_first_accuracy(labels, preds):\n",
        "    return torch.sum(labels == preds).item() / len(labels) # 0.07 % accurancy, WHAT A SH*** (:"
      ],
      "metadata": {
        "id": "3Wh6EldVxc2e"
      },
      "execution_count": 75,
      "outputs": []
    },
    {
      "cell_type": "code",
      "source": [
        "# use cross_entropy to increase my probs\n",
        "\n",
        "loss_function = F.cross_entropy\n",
        "\n",
        "loss = loss_function(output, labels)\n",
        "print(loss)"
      ],
      "metadata": {
        "colab": {
          "base_uri": "https://localhost:8080/"
        },
        "id": "MKkM-kGzx9Z0",
        "outputId": "3be2f181-37b9-4af4-f92c-a41e118be330"
      },
      "execution_count": 76,
      "outputs": [
        {
          "output_type": "stream",
          "name": "stdout",
          "text": [
            "tensor(2.2840, grad_fn=<NllLossBackward0>)\n"
          ]
        }
      ]
    },
    {
      "cell_type": "markdown",
      "source": [
        "# **OPTIMIZER**"
      ],
      "metadata": {
        "id": "pomo2vNR1DPW"
      }
    },
    {
      "cell_type": "code",
      "source": [
        "lr = 0.001 # learning rate and i can change it any time I want 0.001 is much more better choice\n",
        "my_optimizer = torch.optim.SGD(my_model.parameters(), lr = lr)"
      ],
      "metadata": {
        "id": "gg2Bcslm0tZo"
      },
      "execution_count": 77,
      "outputs": []
    },
    {
      "cell_type": "markdown",
      "source": [
        "# **Train the Model : to increase my probs.**"
      ],
      "metadata": {
        "id": "pXg0XO4D1lmL"
      }
    },
    {
      "cell_type": "code",
      "source": [
        "def loss_batch(my_model, loss_function, x, y, opt = None, metric = None):\n",
        "    preds = my_model(x) # x is batches\n",
        "    loss = loss_function(preds, y) # y is labels\n",
        "\n",
        "    if opt is not None:\n",
        "\n",
        "      loss.backward() # compute gradients\n",
        "\n",
        "      opt.step() # update parameters\n",
        "\n",
        "      opt.zero_grad() # reset gradients\n",
        "\n",
        "    metric_result = None\n",
        "    if metric is not None:\n",
        "      # Compute the metric\n",
        "      metric_result = metric(preds, y)\n",
        "\n",
        "    return loss.item(), len(x), metric_result\n",
        "       \n"
      ],
      "metadata": {
        "id": "XapIF0il1ahD"
      },
      "execution_count": 78,
      "outputs": []
    },
    {
      "cell_type": "code",
      "source": [
        "def accuracy(output, labels):\n",
        "  _,preds = torch.max(output, dim = 1)\n",
        "  return torch.sum(preds == labels).item() / len(labels)"
      ],
      "metadata": {
        "id": "XRAB5n1V8n9o"
      },
      "execution_count": 88,
      "outputs": []
    },
    {
      "cell_type": "code",
      "source": [
        "#validation_loss, total, validation_acc = evaluate(my_model, loss_function, val_loader, metric = accuracy)\n",
        "\n",
        "# according to the last version .evaluate we can't use anymore."
      ],
      "metadata": {
        "id": "rB6O3sgB8oH3"
      },
      "execution_count": 90,
      "outputs": []
    },
    {
      "cell_type": "code",
      "source": [
        "def fit(epochs, my_model, loss_function, opt, train_dl, validation_dl, metric = None):\n",
        "  for epoch in range (epochs):\n",
        "    # Training\n",
        "    for x, y in train_dl:\n",
        "      loss,_,_ = loss_batch(my_model, loss_function, x, y, opt)\n",
        "\n",
        "    # Evalation\n",
        "    result = evaluate(my_model, loss_function, validation_dl, metric)\n",
        "    validation_loss, total, validation_metric = result\n",
        "\n",
        "    # print progress\n",
        "\n",
        "    if metric is None:\n",
        "      print('Epoch[{}/{}, Loss: {:.3f}]'.format(epoch + 1, epochs, validation_loss))\n",
        "    else:\n",
        "      print ('Epoch [{}/{}], Loss: {:.4f}, {}: {:.3f}'.format(epoch + 1, epochs, validation_loss, metric.__name__, validation_metric))"
      ],
      "metadata": {
        "id": "mf2lFsHM3-1u"
      },
      "execution_count": 92,
      "outputs": []
    },
    {
      "cell_type": "code",
      "source": [
        "my_model = MnistModel()\n",
        "lr = 0.001 # learning rate and i can change it any time I want 0.001 is much more better choice\n",
        "my_optimizer = torch.optim.SGD(my_model.parameters(), lr = lr)"
      ],
      "metadata": {
        "id": "aEyLNUYL7tDS"
      },
      "execution_count": 91,
      "outputs": []
    },
    {
      "cell_type": "code",
      "source": [
        "# fit(5,my_model,F.cross_entropy, my_optimizer, train_dl, validation_dl )"
      ],
      "metadata": {
        "id": "88hPGgAI78o8"
      },
      "execution_count": 94,
      "outputs": []
    },
    {
      "cell_type": "code",
      "source": [
        "# torch.save(my_model.state_dict(), 'mnist-logistic.pth')\n",
        "# my_model.state_dict() can be use to save my model\n",
        "\n",
        "# model12 = MnistModel()\n",
        "# model12.load_state_dict(torch.load('mnist-logistic.pth'))\n",
        "# model12.state_dict() to load my model"
      ],
      "metadata": {
        "id": "CxZ5FNjz8Two"
      },
      "execution_count": 96,
      "outputs": []
    },
    {
      "cell_type": "code",
      "source": [],
      "metadata": {
        "id": "AEM7foSFB_fP"
      },
      "execution_count": null,
      "outputs": []
    }
  ]
}