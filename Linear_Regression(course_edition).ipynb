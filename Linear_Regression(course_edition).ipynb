{
 "cells": [
  {
   "cell_type": "code",
   "execution_count": 1,
   "id": "16c0f7f1-75e6-4188-9bf5-bc6dd0112172",
   "metadata": {},
   "outputs": [],
   "source": [
    "import torch\n",
    "from torchvision.datasets import MNIST"
   ]
  },
  {
   "cell_type": "code",
   "execution_count": 2,
   "id": "535c3d34-fe0d-4bbc-9b46-b78dd5c8ffc1",
   "metadata": {},
   "outputs": [],
   "source": [
    "train_ds  = MNIST(root = \"data\", train = True, download = True) # for train\n",
    "test_ds  = MNIST(root = \"data\", train = False, download = True) # for test"
   ]
  },
  {
   "cell_type": "code",
   "execution_count": 3,
   "id": "f473cd32-544c-459b-91a8-120df448d45c",
   "metadata": {},
   "outputs": [
    {
     "data": {
      "text/plain": [
       "60000"
      ]
     },
     "execution_count": 3,
     "metadata": {},
     "output_type": "execute_result"
    }
   ],
   "source": [
    "len(train_ds)"
   ]
  },
  {
   "cell_type": "code",
   "execution_count": 4,
   "id": "d4ca039a-1f30-40bc-bd27-30a123bb639a",
   "metadata": {},
   "outputs": [
    {
     "data": {
      "text/plain": [
       "10000"
      ]
     },
     "execution_count": 4,
     "metadata": {},
     "output_type": "execute_result"
    }
   ],
   "source": [
    "len(test_ds)"
   ]
  },
  {
   "cell_type": "code",
   "execution_count": 5,
   "id": "33a50214-e11c-45fd-b427-b1013fe2a1bc",
   "metadata": {},
   "outputs": [],
   "source": [
    "im, gt = train_ds[323]"
   ]
  },
  {
   "cell_type": "code",
   "execution_count": 6,
   "id": "cc630c96-f6ff-4fcf-8072-0274b0f89221",
   "metadata": {},
   "outputs": [
    {
     "data": {
      "image/png": "[encoded data removed]",
      "text/plain": [
       "<PIL.Image.Image image mode=L size=28x28>"
      ]
     },
     "metadata": {},
     "output_type": "display_data"
    }
   ],
   "source": [
    "display(im)"
   ]
  },
  {
   "cell_type": "code",
   "execution_count": 7,
   "id": "c8cdce96-7ea4-436b-a506-c6e8f8ec8c02",
   "metadata": {},
   "outputs": [
    {
     "name": "stdout",
     "output_type": "stream",
     "text": [
      "<class 'int'>\n"
     ]
    }
   ],
   "source": [
    "print(type(gt))"
   ]
  },
  {
   "cell_type": "code",
   "execution_count": 8,
   "id": "77d0d21c-3c76-4da3-8b85-2a189c882a0d",
   "metadata": {},
   "outputs": [],
   "source": [
    "# Image values range from 0~255 \n",
    "# Images can be grayscale and RGB (color). Grayscale images have one channel; and RGB images have 3 channels"
   ]
  },
  {
   "cell_type": "code",
   "execution_count": 9,
   "id": "18c758a1-71bc-4785-ac1e-259de42ac56f",
   "metadata": {},
   "outputs": [
    {
     "name": "stdout",
     "output_type": "stream",
     "text": [
      "[[  0   0   0   0   0   0   0   0   0   0   0   0   0   0   0   0   0   0\n",
      "    0   0   0   0   0   0   0   0   0   0]\n",
      " [  0   0   0   0   0   0   0   0   0   0   0   0   0   0   0 191 255  64\n",
      "    0   0   0   0   0   0   0   0   0   0]\n",
      " [  0   0   0   0   0   0   0   0   0   0   0   0   0   0 191 255 255   0\n",
      "    0   0   0   0   0   0   0   0   0   0]\n",
      " [  0   0   0   0   0   0   0   0   0   0   0   0   0  64 255 255 191   0\n",
      "    0   0   0   0   0   0   0   0   0   0]\n",
      " [  0   0   0   0   0   0   0   0   0   0   0   0  64 255 255 191  64   0\n",
      "    0   0   0   0   0   0   0   0   0   0]\n",
      " [  0   0   0   0   0   0   0   0   0   0   0   0 255 255 255  64   0   0\n",
      "    0   0   0   0   0   0   0   0   0   0]\n",
      " [  0   0   0   0   0   0   0   0   0   0   0 255 255 255 128   0   0   0\n",
      "    0   0   0   0   0   0   0   0   0   0]\n",
      " [  0   0   0   0   0   0   0   0   0   0  64 255 255 191   0   0   0   0\n",
      "    0   0   0   0   0   0   0   0   0   0]\n",
      " [  0   0   0   0   0   0   0   0   0  64 255 255 191  64   0   0   0   0\n",
      "    0   0   0   0   0   0   0   0   0   0]\n",
      " [  0   0   0   0   0   0   0   0   0 191 255 255 128   0   0   0   0   0\n",
      "    0   0   0   0   0   0   0   0   0   0]\n",
      " [  0   0   0   0   0   0   0   0 191 255 255 191   0   0   0   0   0   0\n",
      "    0   0   0   0   0   0   0   0   0   0]\n",
      " [  0   0   0   0   0   0   0   0 255 255 255   0   0   0   0   0   0   0\n",
      "    0   0   0   0   0   0   0   0   0   0]\n",
      " [  0   0   0   0   0   0   0 128 255 255 191   0   0   0   0   0   0   0\n",
      "    0   0   0   0   0   0   0   0   0   0]\n",
      " [  0   0   0   0   0   0   0 255 255 255  64   0   0   0   0   0   0   0\n",
      "  128 128 255 128   0   0   0   0   0   0]\n",
      " [  0   0   0   0   0   0 128 255 255 128   0   0   0   0   0   0   0 191\n",
      "  255 255 255 255  64   0   0   0   0   0]\n",
      " [  0   0   0   0   0   0 128 255 255 128   0   0   0   0   0  64 255 255\n",
      "  255 255 255 255 191   0   0   0   0   0]\n",
      " [  0   0   0   0   0   0  64 255 255 128   0   0   0   0   0 191 255 255\n",
      "  191 191 255 255 191   0   0   0   0   0]\n",
      " [  0   0   0   0   0   0   0 191 255 191   0   0   0   0 128 255 255 255\n",
      "  191 255 255 255  64   0   0   0   0   0]\n",
      " [  0   0   0   0   0   0   0 128 255 255 255 128 128 128 255 255 255 255\n",
      "  255 255 255 128   0   0   0   0   0   0]\n",
      " [  0   0   0   0   0   0   0  64 255 255 255 255 255 255 255 255 255 255\n",
      "  255 255 128   0   0   0   0   0   0   0]\n",
      " [  0   0   0   0   0   0   0   0   0 128 255 255 255 255 255 255 255 128\n",
      "   64   0   0   0   0   0   0   0   0   0]\n",
      " [  0   0   0   0   0   0   0   0   0   0   0   0   0   0   0   0   0   0\n",
      "    0   0   0   0   0   0   0   0   0   0]\n",
      " [  0   0   0   0   0   0   0   0   0   0   0   0   0   0   0   0   0   0\n",
      "    0   0   0   0   0   0   0   0   0   0]\n",
      " [  0   0   0   0   0   0   0   0   0   0   0   0   0   0   0   0   0   0\n",
      "    0   0   0   0   0   0   0   0   0   0]\n",
      " [  0   0   0   0   0   0   0   0   0   0   0   0   0   0   0   0   0   0\n",
      "    0   0   0   0   0   0   0   0   0   0]\n",
      " [  0   0   0   0   0   0   0   0   0   0   0   0   0   0   0   0   0   0\n",
      "    0   0   0   0   0   0   0   0   0   0]\n",
      " [  0   0   0   0   0   0   0   0   0   0   0   0   0   0   0   0   0   0\n",
      "    0   0   0   0   0   0   0   0   0   0]\n",
      " [  0   0   0   0   0   0   0   0   0   0   0   0   0   0   0   0   0   0\n",
      "    0   0   0   0   0   0   0   0   0   0]]\n"
     ]
    }
   ],
   "source": [
    "import numpy as np\n",
    "im_array = np.array(im)\n",
    "print(im_array)"
   ]
  },
  {
   "cell_type": "code",
   "execution_count": 10,
   "id": "521561d9-e394-4419-8fb9-8cf7e891b395",
   "metadata": {},
   "outputs": [
    {
     "data": {
      "text/plain": [
       "(28, 28)"
      ]
     },
     "execution_count": 10,
     "metadata": {},
     "output_type": "execute_result"
    }
   ],
   "source": [
    "im.size"
   ]
  },
  {
   "cell_type": "code",
   "execution_count": 11,
   "id": "3a55d9c2-9cae-458b-88f1-a1486d1cd82b",
   "metadata": {},
   "outputs": [
    {
     "data": {
      "text/plain": [
       "(-0.5, 27.5, 27.5, -0.5)"
      ]
     },
     "execution_count": 11,
     "metadata": {},
     "output_type": "execute_result"
    },
    {
     "data": {
      "image/png": "[encoded data removed]",
      "text/plain": [
       "<Figure size 432x288 with 1 Axes>"
      ]
     },
     "metadata": {
      "needs_background": "light"
     },
     "output_type": "display_data"
    }
   ],
   "source": [
    "from matplotlib import pyplot as plt\n",
    "\n",
    "plt.imshow(im, cmap = \"gray\")\n",
    "plt.title(f\"GT -> {gt}\")\n",
    "plt.axis('off')"
   ]
  },
  {
   "cell_type": "code",
   "execution_count": 12,
   "id": "9d60f28d-d360-46e5-b2a9-018331eed1ca",
   "metadata": {},
   "outputs": [],
   "source": [
    "# Augmentation (transformation) library\n",
    "from torchvision import transforms as T\n",
    "\n",
    "def get_ds(root):\n",
    "    \n",
    "    \"\"\"\n",
    "    \n",
    "    This function get a to save data and returns train and test datasets.\n",
    "    \n",
    "    Parameter:\n",
    "        \n",
    "        root    - path to save the data, str;\n",
    "        \n",
    "    \n",
    "    \"\"\"\n",
    "    \n",
    "    # Initialize transformations (augmentations)\n",
    "    tr_tfs = T.Compose( [T.RandomHorizontalFlip(),  # horizontal flip\n",
    "                         T.ToTensor(), # PIL Image -> tensor; (0~1) # (im_h, im_w, im_ch) -> (im_ch, im_h, im_w)\n",
    "                         T.Normalize(mean = 0.5, std = 0.5) ] ) # 1 channel bo'lgani uchun bitta mean/std value ishlatiladi \n",
    "    \n",
    "    test_tfs = T.Compose( [T.ToTensor(), # PIL Image -> tensor; (0~1) # (im_w, im_h, ch) -> (im_ch, im_h, im_w)\n",
    "                           T.Normalize(mean = 0.5, std = 0.5) ] ) # (0~1) -> (0~255)\n",
    "    \n",
    "    train_ds  = MNIST(root = root, train = True, transform = tr_tfs, download = True) # for train \n",
    "    test_ds  = MNIST(root = root, train = False, transform = test_tfs, download = True) # for test\n",
    "    \n",
    "    return train_ds, test_ds\n",
    "\n",
    "ds, test_ds = get_ds(\"data\")"
   ]
  },
  {
   "cell_type": "code",
   "execution_count": 13,
   "id": "01fa0b41-8e26-40b5-beee-c549b67844b9",
   "metadata": {},
   "outputs": [
    {
     "data": {
      "text/plain": [
       "tensor([-1.0000, -0.9922, -0.9843, -0.9765, -0.9294, -0.9137, -0.8902, -0.8745,\n",
       "        -0.8588, -0.8196, -0.8118, -0.8039, -0.7961, -0.7882, -0.7647, -0.7255,\n",
       "        -0.7176, -0.6941, -0.6627, -0.6471, -0.6392, -0.6157, -0.5686, -0.5608,\n",
       "        -0.4980, -0.4824, -0.4510, -0.3882, -0.3725, -0.3647, -0.3569, -0.2941,\n",
       "        -0.2706, -0.2627, -0.1608, -0.1529, -0.1059, -0.0667, -0.0118, -0.0039,\n",
       "         0.0196,  0.0353,  0.0431,  0.0588,  0.0667,  0.0902,  0.1608,  0.1765,\n",
       "         0.2078,  0.2235,  0.2549,  0.3020,  0.3333,  0.3412,  0.3490,  0.3725,\n",
       "         0.4275,  0.4353,  0.4588,  0.4667,  0.4902,  0.5294,  0.5529,  0.5765,\n",
       "         0.6078,  0.6235,  0.6627,  0.6706,  0.7176,  0.7333,  0.7647,  0.7725,\n",
       "         0.7961,  0.8667,  0.8824,  0.8902,  0.8980,  0.9137,  0.9373,  0.9529,\n",
       "         0.9608,  0.9686,  0.9765,  0.9843,  1.0000])"
      ]
     },
     "execution_count": 13,
     "metadata": {},
     "output_type": "execute_result"
    }
   ],
   "source": [
    "im, gt = ds[0]\n",
    "torch.unique(im)"
   ]
  },
  {
   "cell_type": "code",
   "execution_count": 14,
   "id": "6392ca09-8a54-4e11-ab63-924fd063c35b",
   "metadata": {},
   "outputs": [],
   "source": [
    "from torch.utils.data import random_split, DataLoader"
   ]
  },
  {
   "cell_type": "code",
   "execution_count": 15,
   "id": "88aeebd4-742c-4611-9527-868012c128c9",
   "metadata": {},
   "outputs": [
    {
     "name": "stdout",
     "output_type": "stream",
     "text": [
      "54000\n",
      "6000\n",
      "10000\n"
     ]
    }
   ],
   "source": [
    "tr_length = int(len(ds) * 0.9) # 90% of ds\n",
    "tr_ds, val_ds = random_split(ds, [tr_length, len(ds) - tr_length] )\n",
    "print(len(tr_ds)); print(len(val_ds)); print(len(test_ds))"
   ]
  },
  {
   "cell_type": "code",
   "execution_count": 16,
   "id": "47120501-f33e-4705-97a6-349c17640020",
   "metadata": {},
   "outputs": [],
   "source": [
    "# cpu da data bitta bitta ko'rib chiqiladi; gpu da esa parallel ko'rib chiqiladi\n",
    "# misol uchun cpu 1 sekundda 1ta image ko'rsa; gpu 1 sekundda (batch) ta image ni ko'ra oladi -> parallel computation ; size of mini_batch depends on gpu memory\n",
    "# batch lar bu data ni qismlar ga bo'linggan holati; 54000 ta image bo'lsa mini_batch_size = 100, 54000 / 100 = 540 ta batch lardan iborat bo'ladi;\n",
    "# batch larni yaratib beradigan function bu dataloader; Pytorrch da train qilayotganimizda dataset asosida dataloader ni yaratishimiz kerak."
   ]
  },
  {
   "cell_type": "code",
   "execution_count": 17,
   "id": "10799dd9-0be1-4cb1-be0b-3263da373799",
   "metadata": {},
   "outputs": [],
   "source": [
    "bs = 128; # size of mini batch odatda 2 ni darajasi sifatida olinadi; 256, 512, 1024 ...\n",
    "tr_dl = DataLoader(dataset = tr_ds, batch_size = bs, shuffle = True, num_workers = 8, drop_last = False) # data ni avval cpu bilan chaqirib olamiz; num_workers = cpu ni toshlari soni\n",
    "val_dl = DataLoader(dataset = val_ds, batch_size = bs, shuffle = False, num_workers = 8)\n",
    "test_dl = DataLoader(dataset = test_ds, batch_size = bs, shuffle = False, num_workers = 8)"
   ]
  },
  {
   "cell_type": "code",
   "execution_count": 18,
   "id": "5133be26-eab1-47ea-a945-d65a2e9da56c",
   "metadata": {},
   "outputs": [
    {
     "name": "stdout",
     "output_type": "stream",
     "text": [
      "422\n",
      "47\n",
      "79\n"
     ]
    }
   ],
   "source": [
    "# Assignment \n",
    "print(len(tr_dl)); print(len(val_dl)); print(len(test_dl))"
   ]
  },
  {
   "cell_type": "code",
   "execution_count": 19,
   "id": "87144d6d-4961-4a53-967b-1025b8363b54",
   "metadata": {},
   "outputs": [
    {
     "name": "stdout",
     "output_type": "stream",
     "text": [
      "torch.Size([128, 1, 28, 28])\n",
      "torch.Size([128])\n"
     ]
    }
   ],
   "source": [
    "batch = next(iter(tr_dl))\n",
    "print(batch[0].shape); print(batch[1].shape)"
   ]
  },
  {
   "cell_type": "markdown",
   "id": "2cb4de39-6309-458b-b34c-2a9255fb6c22",
   "metadata": {},
   "source": [
    "# Custom Model"
   ]
  },
  {
   "cell_type": "code",
   "execution_count": 20,
   "id": "aad94f07-2f2c-47ce-a0d7-44b5223563a1",
   "metadata": {},
   "outputs": [
    {
     "name": "stdout",
     "output_type": "stream",
     "text": [
      "torch.Size([1, 3])\n",
      "torch.Size([3, 1])\n"
     ]
    }
   ],
   "source": [
    "x = torch.rand(1, 3)\n",
    "print(x.shape)\n",
    "print(x.T.shape)"
   ]
  },
  {
   "cell_type": "code",
   "execution_count": 21,
   "id": "666af309-eaee-4ed6-9f17-bc1b2210904a",
   "metadata": {},
   "outputs": [
    {
     "name": "stdout",
     "output_type": "stream",
     "text": [
      "torch.Size([1, 2])\n"
     ]
    }
   ],
   "source": [
    "x = torch.rand(1, 3) # (1, 3) x (3, 2) = (1, 2) # (1, 7) -> 1-sample da 7ta feature bor degani : education, lunch, math_score ... \n",
    "w = torch.rand(2, 3)\n",
    "print(torch.matmul(x, w.T).shape)"
   ]
  },
  {
   "cell_type": "code",
   "execution_count": 22,
   "id": "2e36d1d9-f4ad-428b-9df3-778450285607",
   "metadata": {},
   "outputs": [
    {
     "name": "stdout",
     "output_type": "stream",
     "text": [
      "torch.Size([1, 2])\n"
     ]
    }
   ],
   "source": [
    "lin = torch.nn.Linear(in_features = 3, out_features = 2) # (20 + 30 + 40) -> (44.843 + 45.8454) -> (90)\n",
    "print(lin(x).shape)"
   ]
  },
  {
   "cell_type": "markdown",
   "id": "61711112-6373-4ebf-bafa-3d8e0cf57f9b",
   "metadata": {},
   "source": [
    "# torch input shape -> (bs, im_ch, im_h, im_w) -> (4D)"
   ]
  },
  {
   "cell_type": "code",
   "execution_count": 23,
   "id": "cf125e8d-2dbb-4589-9f3c-b4b07eb3ddaa",
   "metadata": {},
   "outputs": [
    {
     "name": "stdout",
     "output_type": "stream",
     "text": [
      "tensor([[0.0923, 0.1002, 0.0938, 0.1052, 0.0968, 0.1107, 0.1073, 0.0999, 0.0909,\n",
      "         0.1030]], grad_fn=<SoftmaxBackward0>)\n"
     ]
    }
   ],
   "source": [
    "class CustomModel(torch.nn.Module):\n",
    "    \n",
    "    def __init__(self, in_feats, out_feats, num_classes): \n",
    "        super().__init__()\n",
    "        \n",
    "        self.linear_layer_1 = torch.nn.Linear(in_features = in_feats, out_features = out_feats)\n",
    "        self.activation = torch.nn.ReLU() \n",
    "        self.linear_layer_2 = torch.nn.Linear(in_features = out_feats, out_features = out_feats // 2)\n",
    "        self.out_layer = torch.nn.Linear(in_features = out_feats // 2, out_features = num_classes)\n",
    "        self.softmax = torch.nn.Softmax(dim = 1)\n",
    "\n",
    "    def forward(self, inp): \n",
    "        \n",
    "        # inp_shape = 4D (bs, im_ch, im_h, im_w) 4D -> 2D\n",
    "        bs = inp.shape[0]\n",
    "        inp = inp.view(bs, -1) # (bs, im_ch, im_h, im_w) -> (bs, im_ch * im_h * im_w) 4D -> 2D\n",
    "        inp = self.linear_layer_1(inp) # input: (bs, 784); output: (bs, 392) \n",
    "        inp = self.activation(inp) # doesnot change feature dimensions input: (bs, 392); output: (bs, 392) \n",
    "        inp = self.linear_layer_2(inp) # input: (bs, 392); output: (bs, 392 // 2 = 196)  \n",
    "        out = self.out_layer(inp)\n",
    "        \n",
    "        return self.softmax(out)\n",
    "    \n",
    "inp = torch.rand(1, 1, 28, 28) # (bs, im_ch, im_h, im_w) -> 4D -> 2D (bs, features)\n",
    "model = CustomModel(in_feats = 28 * 28 * 1, out_feats = (28 * 28) // 2, num_classes = 10) # 784 -> 1568 - X ; 784 -> 392\n",
    "print(model(inp))"
   ]
  },
  {
   "cell_type": "code",
   "execution_count": 24,
   "id": "12e5ec63-e21e-4089-ae5f-7fd2cac17758",
   "metadata": {},
   "outputs": [
    {
     "name": "stdout",
     "output_type": "stream",
     "text": [
      "linear_layer_1.weight parameterda 307328 ta parameter bor.\n",
      "linear_layer_1.bias parameterda 392 ta parameter bor.\n",
      "linear_layer_2.weight parameterda 76832 ta parameter bor.\n",
      "linear_layer_2.bias parameterda 196 ta parameter bor.\n",
      "out_layer.weight parameterda 1960 ta parameter bor.\n",
      "out_layer.bias parameterda 10 ta parameter bor.\n",
      "Modelning umumiy parameter lar soni -> 386718\n"
     ]
    }
   ],
   "source": [
    "for name, params in model.named_parameters():\n",
    "    print(f\"{name} parameterda {params.numel()} ta parameter bor.\")\n",
    "print(f\"Modelning umumiy parameter lar soni -> {sum(params.numel() for params in model.parameters())}\")"
   ]
  },
  {
   "cell_type": "code",
   "execution_count": 25,
   "id": "1d3a638c-ab6d-483e-af89-cf5c16f58a73",
   "metadata": {},
   "outputs": [
    {
     "name": "stdout",
     "output_type": "stream",
     "text": [
      "tensor([5, 6, 7, 8, 9])\n",
      "tensor([5, 6, 7, 8, 9])\n"
     ]
    }
   ],
   "source": [
    "vals = torch.arange(5, 10, 1)\n",
    "print(vals)\n",
    "relu_outs = torch.nn.ReLU()(vals)\n",
    "print(relu_outs)"
   ]
  },
  {
   "cell_type": "code",
   "execution_count": 26,
   "id": "f5eb557d-a679-4422-be1a-4ecd5c2931fc",
   "metadata": {},
   "outputs": [
    {
     "name": "stdout",
     "output_type": "stream",
     "text": [
      "tensor([-0.0754, -0.1027, -0.0945,  0.0784,  0.0233, -0.1027,  0.1343, -0.0463,\n",
      "         0.0369,  0.1287])\n"
     ]
    },
    {
     "name": "stderr",
     "output_type": "stream",
     "text": [
      "/tmp/ipykernel_40578/2741397163.py:3: UserWarning: Implicit dimension choice for softmax has been deprecated. Change the call to include dim=X as an argument.\n",
      "  torch.nn.Softmax()(outputs)\n"
     ]
    },
    {
     "data": {
      "text/plain": [
       "tensor([0.0925, 0.0901, 0.0908, 0.1079, 0.1021, 0.0901, 0.1141, 0.0953, 0.1035,\n",
       "        0.1135])"
      ]
     },
     "execution_count": 26,
     "metadata": {},
     "output_type": "execute_result"
    }
   ],
   "source": [
    "outputs = torch.FloatTensor([-0.0754, -0.1027, -0.0945,  0.0784,  0.0233, -0.1027,  0.1343, -0.0463, 0.0369,  0.1287])\n",
    "print(outputs)\n",
    "torch.nn.Softmax()(outputs)"
   ]
  },
  {
   "cell_type": "markdown",
   "id": "103096b6-6fd6-4f2a-a09f-c7e091208507",
   "metadata": {},
   "source": [
    "### Epoch is when a model sees all examples once. \n",
    "### Images in the dataset = 100; Batch_size = 10; Iteration - 100 // 10 = 10? In this case, 10 iterations == 1 epoch;\n",
    "### Images in the dataset = 100; Batch_size = 10; Epoch = 10; Iteration - 1 epoch has (100 // 10) = 10 iterations, then 10 epochs have 10 * 10 = 100"
   ]
  },
  {
   "cell_type": "code",
   "execution_count": 27,
   "id": "724415f2-f6f7-4024-8285-6c8194f7e78f",
   "metadata": {},
   "outputs": [],
   "source": [
    "# w1 = w0 - lr * w0.grad # w0 = 3, w1 = 70\n",
    "\n",
    "epochs = 10\n",
    "device = \"cuda\" # \"cuda\"\n",
    "model.to(device) # model is automatically on cpu at first. so we need to switch to gpu\n",
    "loss_fn = torch.nn.CrossEntropyLoss()\n",
    "optimizer = torch.optim.Adam(params = model.parameters(), lr = 0.001)"
   ]
  },
  {
   "cell_type": "code",
   "execution_count": 28,
   "id": "5b0155c4-bfb3-464d-b1e6-3db0fb721561",
   "metadata": {},
   "outputs": [],
   "source": [
    "# w1 = w0 - lr * w0.grad"
   ]
  },
  {
   "cell_type": "code",
   "execution_count": 29,
   "id": "af7c703a-c223-407e-8138-6d215a6145b6",
   "metadata": {
    "scrolled": true,
    "tags": []
   },
   "outputs": [
    {
     "name": "stdout",
     "output_type": "stream",
     "text": [
      "Train boshlandi\n"
     ]
    },
    {
     "name": "stderr",
     "output_type": "stream",
     "text": [
      "422it [00:01, 239.09it/s]"
     ]
    },
    {
     "name": "stdout",
     "output_type": "stream",
     "text": [
      "Epoch 1 train is finished!\n",
      "Epoch 1 train loss -> 1.698523831028509!\n",
      "Epoch 1 train acc -> 0.7702037037037037!\n"
     ]
    },
    {
     "name": "stderr",
     "output_type": "stream",
     "text": [
      "\n"
     ]
    },
    {
     "name": "stdout",
     "output_type": "stream",
     "text": [
      "Epoch 1 validation is finished!\n",
      "Epoch 1 validation loss -> 1.6199148360719071!\n",
      "Epoch 1 validation acc -> 0.8446666666666667!\n"
     ]
    },
    {
     "name": "stderr",
     "output_type": "stream",
     "text": [
      "422it [00:01, 313.13it/s]"
     ]
    },
    {
     "name": "stdout",
     "output_type": "stream",
     "text": [
      "Epoch 2 train is finished!\n",
      "Epoch 2 train loss -> 1.588779675452065!\n",
      "Epoch 2 train acc -> 0.8755925925925926!\n"
     ]
    },
    {
     "name": "stderr",
     "output_type": "stream",
     "text": [
      "\n"
     ]
    },
    {
     "name": "stdout",
     "output_type": "stream",
     "text": [
      "Epoch 2 validation is finished!\n",
      "Epoch 2 validation loss -> 1.5636549173517431!\n",
      "Epoch 2 validation acc -> 0.8998333333333334!\n"
     ]
    },
    {
     "name": "stderr",
     "output_type": "stream",
     "text": [
      "422it [00:01, 306.47it/s]"
     ]
    },
    {
     "name": "stdout",
     "output_type": "stream",
     "text": [
      "Epoch 3 train is finished!\n",
      "Epoch 3 train loss -> 1.5595376652563917!\n",
      "Epoch 3 train acc -> 0.9034074074074074!\n"
     ]
    },
    {
     "name": "stderr",
     "output_type": "stream",
     "text": [
      "\n"
     ]
    },
    {
     "name": "stdout",
     "output_type": "stream",
     "text": [
      "Epoch 3 validation is finished!\n",
      "Epoch 3 validation loss -> 1.551784670099299!\n",
      "Epoch 3 validation acc -> 0.9106666666666666!\n"
     ]
    },
    {
     "name": "stderr",
     "output_type": "stream",
     "text": [
      "422it [00:01, 299.58it/s]"
     ]
    },
    {
     "name": "stdout",
     "output_type": "stream",
     "text": [
      "Epoch 4 train is finished!\n",
      "Epoch 4 train loss -> 1.5495021394078765!\n",
      "Epoch 4 train acc -> 0.9127407407407407!\n"
     ]
    },
    {
     "name": "stderr",
     "output_type": "stream",
     "text": [
      "\n"
     ]
    },
    {
     "name": "stdout",
     "output_type": "stream",
     "text": [
      "Epoch 4 validation is finished!\n",
      "Epoch 4 validation loss -> 1.5458354696314385!\n",
      "Epoch 4 validation acc -> 0.916!\n"
     ]
    },
    {
     "name": "stderr",
     "output_type": "stream",
     "text": [
      "422it [00:01, 305.28it/s]"
     ]
    },
    {
     "name": "stdout",
     "output_type": "stream",
     "text": [
      "Epoch 5 train is finished!\n",
      "Epoch 5 train loss -> 1.5434262961572944!\n",
      "Epoch 5 train acc -> 0.9183518518518519!\n"
     ]
    },
    {
     "name": "stderr",
     "output_type": "stream",
     "text": [
      "\n"
     ]
    },
    {
     "name": "stdout",
     "output_type": "stream",
     "text": [
      "Epoch 5 validation is finished!\n",
      "Epoch 5 validation loss -> 1.5363565150727616!\n",
      "Epoch 5 validation acc -> 0.9256666666666666!\n"
     ]
    },
    {
     "name": "stderr",
     "output_type": "stream",
     "text": [
      "422it [00:01, 303.98it/s]"
     ]
    },
    {
     "name": "stdout",
     "output_type": "stream",
     "text": [
      "Epoch 6 train is finished!\n",
      "Epoch 6 train loss -> 1.5386328375170015!\n",
      "Epoch 6 train acc -> 0.9227777777777778!\n"
     ]
    },
    {
     "name": "stderr",
     "output_type": "stream",
     "text": [
      "\n"
     ]
    },
    {
     "name": "stdout",
     "output_type": "stream",
     "text": [
      "Epoch 6 validation is finished!\n",
      "Epoch 6 validation loss -> 1.5373565694119067!\n",
      "Epoch 6 validation acc -> 0.9241666666666667!\n"
     ]
    },
    {
     "name": "stderr",
     "output_type": "stream",
     "text": [
      "422it [00:01, 306.32it/s]"
     ]
    },
    {
     "name": "stdout",
     "output_type": "stream",
     "text": [
      "Epoch 7 train is finished!\n",
      "Epoch 7 train loss -> 1.5338049692000257!\n",
      "Epoch 7 train acc -> 0.9275185185185185!\n"
     ]
    },
    {
     "name": "stderr",
     "output_type": "stream",
     "text": [
      "\n"
     ]
    },
    {
     "name": "stdout",
     "output_type": "stream",
     "text": [
      "Epoch 7 validation is finished!\n",
      "Epoch 7 validation loss -> 1.5519828263749467!\n",
      "Epoch 7 validation acc -> 0.9085!\n"
     ]
    },
    {
     "name": "stderr",
     "output_type": "stream",
     "text": [
      "422it [00:01, 293.08it/s]"
     ]
    },
    {
     "name": "stdout",
     "output_type": "stream",
     "text": [
      "Epoch 8 train is finished!\n",
      "Epoch 8 train loss -> 1.5360728716963274!\n",
      "Epoch 8 train acc -> 0.9252777777777778!\n"
     ]
    },
    {
     "name": "stderr",
     "output_type": "stream",
     "text": [
      "\n"
     ]
    },
    {
     "name": "stdout",
     "output_type": "stream",
     "text": [
      "Epoch 8 validation is finished!\n",
      "Epoch 8 validation loss -> 1.539476085216441!\n",
      "Epoch 8 validation acc -> 0.9206666666666666!\n"
     ]
    },
    {
     "name": "stderr",
     "output_type": "stream",
     "text": [
      "422it [00:01, 309.32it/s]"
     ]
    },
    {
     "name": "stdout",
     "output_type": "stream",
     "text": [
      "Epoch 9 train is finished!\n",
      "Epoch 9 train loss -> 1.5306534134381191!\n",
      "Epoch 9 train acc -> 0.9305!\n"
     ]
    },
    {
     "name": "stderr",
     "output_type": "stream",
     "text": [
      "\n"
     ]
    },
    {
     "name": "stdout",
     "output_type": "stream",
     "text": [
      "Epoch 9 validation is finished!\n",
      "Epoch 9 validation loss -> 1.5280655089845048!\n",
      "Epoch 9 validation acc -> 0.9328333333333333!\n"
     ]
    },
    {
     "name": "stderr",
     "output_type": "stream",
     "text": [
      "422it [00:01, 312.02it/s]"
     ]
    },
    {
     "name": "stdout",
     "output_type": "stream",
     "text": [
      "Epoch 10 train is finished!\n",
      "Epoch 10 train loss -> 1.5279931459946654!\n",
      "Epoch 10 train acc -> 0.9329814814814815!\n"
     ]
    },
    {
     "name": "stderr",
     "output_type": "stream",
     "text": [
      "\n"
     ]
    },
    {
     "name": "stdout",
     "output_type": "stream",
     "text": [
      "Epoch 10 validation is finished!\n",
      "Epoch 10 validation loss -> 1.5436700328867485!\n",
      "Epoch 10 validation acc -> 0.9175!\n"
     ]
    }
   ],
   "source": [
    "from tqdm import tqdm\n",
    "import os\n",
    "\n",
    "print(\"Train boshlandi\")\n",
    "\n",
    "best_acc = 0\n",
    "\n",
    "for epoch in range(epochs):\n",
    "    # if epoch == 1: break\n",
    "    \n",
    "    epoch_loss, epoch_acc, total = 0, 0, 0\n",
    "    \n",
    "    for idx, batch in tqdm(enumerate(tr_dl)):\n",
    "        \n",
    "        ims, gts = batch # ims and gts are automatically on cpu at first. so we need to switch to gpu\n",
    "        ims, gts = ims.to(device), gts.to(device)\n",
    "        \n",
    "        preds = model(ims)\n",
    "        # logits\n",
    "        loss = loss_fn(preds, gts) # loss is tensor -> float value\n",
    "        # print(loss)\n",
    "        \n",
    "        total += ims.shape[0] # bs (bs, im_chs, im_h, im_w)\n",
    "        pred_val, pred_cls = torch.max(preds.data, dim = 1)\n",
    "        # if idx == 0: break\n",
    "        epoch_acc += (pred_cls == gts).sum().item() # bs ta pred dan nechtasi gts ga tengligini hisoblaydi: 128tadan  100tasi gt ga teng bo'lsa = 100 + 110 + 120 + 137\n",
    "        epoch_loss += loss.item() # 2 + 2 + 2 = 2 + 2 + 2 + 2 10ta son chiqadi / 10\n",
    "        \n",
    "        optimizer.zero_grad()\n",
    "        loss.backward() # batch_size ta image uchun hisoblangan\n",
    "        optimizer.step()\n",
    "        \n",
    "    print(f\"Epoch {epoch + 1} train is finished!\")\n",
    "    print(f\"Epoch {epoch + 1} train loss -> {epoch_loss / len(tr_dl)}!\")\n",
    "    print(f\"Epoch {epoch + 1} train acc -> {epoch_acc / total}!\")\n",
    "    \n",
    "    model.eval()\n",
    "    with torch.no_grad():\n",
    "        val_epoch_loss, val_epoch_acc, val_total = 0, 0, 0\n",
    "        \n",
    "        for idx, batch in enumerate(val_dl):\n",
    "            ims, gts = batch\n",
    "            ims, gts = ims.to(device), gts.to(device)\n",
    "            val_total += ims.shape[0]\n",
    "            \n",
    "            preds = model(ims) # oputputs are probabilities\n",
    "            loss = loss_fn(preds, gts)\n",
    "            _, pred_cls = torch.max(preds.data, dim = 1)\n",
    "            val_epoch_loss += loss.item()\n",
    "            val_epoch_acc += (pred_cls == gts).sum().item()\n",
    "            \n",
    "        val_acc = val_epoch_acc / val_total\n",
    "        \n",
    "        print(f\"Epoch {epoch + 1} validation is finished!\")\n",
    "        print(f\"Epoch {epoch + 1} validation loss -> {val_epoch_loss / len(val_dl)}!\")\n",
    "        print(f\"Epoch {epoch + 1} validation acc -> {val_acc}!\") \n",
    "        \n",
    "        # 1-epochda val_acc = 60; best_acc = 0: 60 > 0; best_acc = 60\n",
    "        # 2-epochda val_acc = 65; best_acc = 60: 65 > 60; best_acc = 65\n",
    "        # 3-epochda val_acc = 63; best_acc = 65: 63 > 65 will not run\n",
    "        \n",
    "        if val_acc > best_acc:\n",
    "            os.makedirs(\"saved_models\", exist_ok = True)\n",
    "            torch.save(model.state_dict(), f\"saved_models/mnist_best_model.pth\") # model.state_dict() returns trained weights and biases\n",
    "            best_acc = val_acc"
   ]
  },
  {
   "cell_type": "markdown",
   "id": "bb6b0bb5-1212-4a72-a1d3-44306500bfe2",
   "metadata": {},
   "source": [
    "### Inference (Test Phase)"
   ]
  },
  {
   "cell_type": "code",
   "execution_count": 36,
   "id": "12025dc8-c21f-4226-b393-e2651195ab6a",
   "metadata": {},
   "outputs": [
    {
     "name": "stdout",
     "output_type": "stream",
     "text": [
      "Model's trainable parameters are succesfully loaded!\n"
     ]
    },
    {
     "data": {
      "text/plain": [
       "CustomModel(\n",
       "  (linear_layer_1): Linear(in_features=784, out_features=392, bias=True)\n",
       "  (activation): ReLU()\n",
       "  (linear_layer_2): Linear(in_features=392, out_features=196, bias=True)\n",
       "  (out_layer): Linear(in_features=196, out_features=10, bias=True)\n",
       "  (softmax): Softmax(dim=1)\n",
       ")"
      ]
     },
     "execution_count": 36,
     "metadata": {},
     "output_type": "execute_result"
    }
   ],
   "source": [
    "model.load_state_dict(torch.load(\"saved_models/mnist_best_model.pth\"))\n",
    "print(\"Model's trainable parameters are succesfully loaded!\")\n",
    "model.to(device)"
   ]
  },
  {
   "cell_type": "code",
   "execution_count": 51,
   "id": "af116358-d35a-4fc2-860b-730031e152f4",
   "metadata": {},
   "outputs": [
    {
     "name": "stdout",
     "output_type": "stream",
     "text": [
      "128\n",
      "128\n"
     ]
    }
   ],
   "source": [
    "ims, gts = next(iter(test_dl))\n",
    "# print(ims.shape)\n",
    "# print(gts)\n",
    "\n",
    "preds, images, lbls = [], [], []\n",
    "\n",
    "for im, gt in zip(ims, gts):\n",
    "    im, gt = im.to(device), gt.to(device)\n",
    "    preds_ = model(im) # 10 ta prob scores\n",
    "    _, pred_cls = torch.max(preds_, dim = 1)\n",
    "    images.append(im)\n",
    "    preds.append(pred_cls.item())\n",
    "    lbls.append(gt)\n",
    "print(len(preds))\n",
    "print(len(images))\n"
   ]
  },
  {
   "cell_type": "code",
   "execution_count": 52,
   "id": "9ae2bfb4-ab9d-4c25-a635-507ea74ad793",
   "metadata": {},
   "outputs": [],
   "source": [
    "# permute transpose for high dimensions: 1,28,28 -> 28,28,1\n",
    "def tensor_2_im(t): return (t * 255).detach().cpu().permute(1,2,0).numpy().astype(np.uint8)"
   ]
  },
  {
   "cell_type": "code",
   "execution_count": 53,
   "id": "881962d0-0533-48f0-9596-5dff487e2ee5",
   "metadata": {},
   "outputs": [
    {
     "data": {
      "image/png": "[encoded data removed]",
      "text/plain": [
       "<Figure size 1440x720 with 10 Axes>"
      ]
     },
     "metadata": {
      "needs_background": "light"
     },
     "output_type": "display_data"
    }
   ],
   "source": [
    "row = 2\n",
    "num_ims = 10\n",
    "\n",
    "plt.figure(figsize = (20, 10))\n",
    "indekslar = np.random.randint(low = 0, high = len(preds), size = num_ims)\n",
    "\n",
    "for idx, indeks in enumerate(indekslar):\n",
    "    # if idx == 1: break\n",
    "    im = ims[int(indeks)]\n",
    "    gt = gts[int(indeks)]\n",
    "    pred = preds[int(indeks)]\n",
    "    \n",
    "    plt.subplot(row, num_ims // row, idx + 1)\n",
    "    plt.imshow(tensor_2_im(im), cmap = 'gray')\n",
    "    # plt.imshow(im, cmap = 'gray')\n",
    "    plt.axis('off')\n",
    "    plt.title(f\"GT -> {gt}; Pred -> {pred}\")"
   ]
  },
  {
   "cell_type": "markdown",
   "id": "ba219954-98a6-49cd-b28c-a7ffb7a25f2a",
   "metadata": {},
   "source": [
    "### Class#5"
   ]
  },
  {
   "cell_type": "code",
   "execution_count": 30,
   "id": "0d16a69e-3ea6-4fb9-b0db-0108f2b7a4ea",
   "metadata": {},
   "outputs": [
    {
     "data": {
      "text/plain": [
       "tensor([0.5000, 0.5000])"
      ]
     },
     "execution_count": 30,
     "metadata": {},
     "output_type": "execute_result"
    }
   ],
   "source": [
    "import torch\n",
    "from torch.nn import Sigmoid\n",
    "\n",
    "out1 = torch.tensor(0)\n",
    "out2 = torch.tensor(0.00002)\n",
    "outs = torch.FloatTensor([out1, out2])\n",
    "sig = Sigmoid()\n",
    "# sig = torch.nn.Softmax()\n",
    "sig(outs)"
   ]
  },
  {
   "cell_type": "code",
   "execution_count": 31,
   "id": "7e946807-1cce-462e-9946-9fcd63e81f1f",
   "metadata": {},
   "outputs": [
    {
     "name": "stdout",
     "output_type": "stream",
     "text": [
      "tensor([[0.0954, 0.0900, 0.1045, 0.0987, 0.1098, 0.0941, 0.1076, 0.1132, 0.0935,\n",
      "         0.0933]], grad_fn=<SoftmaxBackward0>)\n"
     ]
    }
   ],
   "source": [
    "class CustomModel(torch.nn.Module):\n",
    "    \n",
    "    def __init__(self, in_feats, out_feats, num_classes): \n",
    "        super().__init__()\n",
    "        \n",
    "        self.linear_layer_1 = torch.nn.Linear(in_features = in_feats, out_features = out_feats)\n",
    "        self.activation = torch.nn.ReLU() \n",
    "        self.linear_layer_2 = torch.nn.Linear(in_features = out_feats, out_features = out_feats // 2)\n",
    "        self.out_layer = torch.nn.Linear(in_features = out_feats // 2, out_features = num_classes)\n",
    "        self.softmax = torch.nn.Softmax(dim = 1)\n",
    "\n",
    "    def forward(self, inp): \n",
    "        \n",
    "        # inp_shape = 4D (bs, im_ch, im_h, im_w) 4D -> 2D\n",
    "        # Pseudo-preprocessing\n",
    "        bs = inp.shape[0]\n",
    "        inp = inp.view(bs, -1) # (bs, im_ch, im_h, im_w) -> (bs, im_ch * im_h * im_w) 4D -> 2D\n",
    "        \n",
    "        # Model starts from here\n",
    "        inp = self.linear_layer_1(inp) # input: (bs, 784); output: (bs, 392) \n",
    "        inp = self.activation(inp) # doesnot change feature dimensions input: (bs, 392); output: (bs, 392) \n",
    "        inp = self.linear_layer_2(inp) # input: (bs, 392); output: (bs, 392 // 2 = 196)  \n",
    "        out = self.out_layer(inp)\n",
    "        \n",
    "        return self.softmax(out)\n",
    "    \n",
    "inp = torch.rand(1, 1, 28, 28) # (bs, im_ch, im_h, im_w) -> 4D -> 2D (bs, features)\n",
    "model = CustomModel(in_feats = 28 * 28 * 1, out_feats = (28 * 28) // 2, num_classes = 10) # 784 -> 1568 - X ; 784 -> 392\n",
    "print(model(inp))"
   ]
  },
  {
   "cell_type": "code",
   "execution_count": 32,
   "id": "18570dae-2f25-4958-b1b0-454c0f165d8b",
   "metadata": {},
   "outputs": [
    {
     "data": {
      "text/plain": [
       "torch.Size([10, 1000])"
      ]
     },
     "execution_count": 32,
     "metadata": {},
     "output_type": "execute_result"
    }
   ],
   "source": [
    "from torch.nn import Linear\n",
    "\n",
    "# Linear layerga input doim 2D bo'lishi kerak, shulardan birinchi doim bs bo'ladi.  \n",
    "# (bs, im_ch, im_h, im_w) - tensor input dimensions\n",
    "inp_1 = torch.rand(10, 100) \n",
    "\n",
    "lin = Linear(in_features = 100, \n",
    "             out_features = 1000)\n",
    "\n",
    "lin(inp_1).shape\n",
    "\n",
    "# img (im_h = 200, im_w = 200)  -> (im_h = 100, im_w = 100)"
   ]
  },
  {
   "cell_type": "code",
   "execution_count": null,
   "id": "90d569f1-a107-4f1f-9c3d-730e7aecb813",
   "metadata": {},
   "outputs": [],
   "source": []
  }
 ],
 "metadata": {
  "kernelspec": {
   "display_name": "imagen",
   "language": "python",
   "name": "imagen"
  },
  "language_info": {
   "codemirror_mode": {
    "name": "ipython",
    "version": 3
   },
   "file_extension": ".py",
   "mimetype": "text/x-python",
   "name": "python",
   "nbconvert_exporter": "python",
   "pygments_lexer": "ipython3",
   "version": "3.9.15"
  }
 },
 "nbformat": 4,
 "nbformat_minor": 5
}
